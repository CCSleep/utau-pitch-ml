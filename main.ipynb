{
  "nbformat": 4,
  "nbformat_minor": 0,
  "metadata": {
    "colab": {
      "name": "utau v2.ipynb",
      "provenance": []
    },
    "kernelspec": {
      "name": "python3",
      "display_name": "Python 3"
    },
    "language_info": {
      "name": "python"
    }
  },
  "cells": [
    {
      "cell_type": "markdown",
      "source": [
        "# Step 0: Setup Google Drive + Install Module"
      ],
      "metadata": {
        "id": "3omzUrP79lSe"
      }
    },
    {
      "cell_type": "code",
      "source": [
        "!pip install tqdm"
      ],
      "metadata": {
        "colab": {
          "base_uri": "https://localhost:8080/"
        },
        "id": "gJJGz_ifL5N_",
        "outputId": "dd6fe54e-1adf-4fd9-b44c-345560b566fe"
      },
      "execution_count": 2,
      "outputs": [
        {
          "output_type": "stream",
          "name": "stdout",
          "text": [
            "Looking in indexes: https://pypi.org/simple, https://us-python.pkg.dev/colab-wheels/public/simple/\n",
            "Requirement already satisfied: tqdm in /usr/local/lib/python3.7/dist-packages (4.64.0)\n"
          ]
        }
      ]
    },
    {
      "cell_type": "code",
      "source": [
        "from google.colab import drive\n",
        "drive.mount('/content/drive')"
      ],
      "metadata": {
        "colab": {
          "base_uri": "https://localhost:8080/"
        },
        "id": "CMWix4MXMFXQ",
        "outputId": "6522158b-3046-40c5-c58b-ea4a4fd910d4"
      },
      "execution_count": 3,
      "outputs": [
        {
          "output_type": "stream",
          "name": "stdout",
          "text": [
            "Mounted at /content/drive\n"
          ]
        }
      ]
    },
    {
      "cell_type": "markdown",
      "source": [
        "# Step 1: Import Module"
      ],
      "metadata": {
        "id": "VhfCgldf9svX"
      }
    },
    {
      "cell_type": "code",
      "execution_count": 41,
      "metadata": {
        "id": "a_r6gv7HKh6I"
      },
      "outputs": [],
      "source": [
        "from tqdm import tqdm\n",
        "import os\n",
        "import numpy as np\n",
        "import pandas as pd\n",
        "import matplotlib.pyplot as plt\n",
        "from sklearn.model_selection import train_test_split\n",
        "from sklearn.ensemble import RandomForestClassifier\n",
        "from sklearn.metrics import classification_report\n",
        "from sklearn.metrics import accuracy_score\n",
        "# from xgboost import XGBClassifier\n",
        "# from sklearn.neighbors import KNeighborsClassifier"
      ]
    },
    {
      "cell_type": "markdown",
      "source": [
        "# Step 2: Import and Prepare Data from CSV"
      ],
      "metadata": {
        "id": "0GaAMPIU9wr0"
      }
    },
    {
      "cell_type": "code",
      "source": [
        "path = \"/content/drive/MyDrive/utau-csv\"\n",
        "q = []\n",
        "for i in tqdm(os.listdir(path)):\n",
        "  q.append(pd.read_csv(os.path.join(path, i)))"
      ],
      "metadata": {
        "colab": {
          "base_uri": "https://localhost:8080/"
        },
        "id": "5v1FlijtLxFq",
        "outputId": "ece4423c-e126-4f68-a057-888712a5c7fa"
      },
      "execution_count": 5,
      "outputs": [
        {
          "output_type": "stream",
          "name": "stderr",
          "text": [
            "100%|██████████| 843/843 [00:33<00:00, 25.43it/s]\n"
          ]
        }
      ]
    },
    {
      "cell_type": "code",
      "source": [
        "all_df = [i.drop([\"start_time\", \"start_pitch\"], axis=1) for i in q]"
      ],
      "metadata": {
        "id": "rfuc4uy9MQ5D"
      },
      "execution_count": 6,
      "outputs": []
    },
    {
      "cell_type": "code",
      "source": [
        "connect = all_df[0]\n",
        "for i in all_df[1:]:\n",
        "  connect = connect.append(i)\n",
        "connect"
      ],
      "metadata": {
        "id": "e1JpUrReMZhS",
        "colab": {
          "base_uri": "https://localhost:8080/",
          "height": 423
        },
        "outputId": "f72bf3d1-216b-4c47-cd0c-dfa4ae9cf165"
      },
      "execution_count": 7,
      "outputs": [
        {
          "output_type": "execute_result",
          "data": {
            "text/plain": [
              "     song_id  length  note_num  is_rest  pby_pattern\n",
              "0          0   10290        60     True            0\n",
              "1          0     480        60    False           11\n",
              "2          0     480        62    False            7\n",
              "3          0     240        62    False            0\n",
              "4          0     240        65    False           35\n",
              "..       ...     ...       ...      ...          ...\n",
              "635      844     480        48     True            0\n",
              "636      844     480        48     True            0\n",
              "637      844     480        48     True            0\n",
              "638      844     480        48     True            0\n",
              "639      844     480        60    False            0\n",
              "\n",
              "[418948 rows x 5 columns]"
            ],
            "text/html": [
              "\n",
              "  <div id=\"df-16cd7865-f8ae-49be-a857-cf15bbc62a82\">\n",
              "    <div class=\"colab-df-container\">\n",
              "      <div>\n",
              "<style scoped>\n",
              "    .dataframe tbody tr th:only-of-type {\n",
              "        vertical-align: middle;\n",
              "    }\n",
              "\n",
              "    .dataframe tbody tr th {\n",
              "        vertical-align: top;\n",
              "    }\n",
              "\n",
              "    .dataframe thead th {\n",
              "        text-align: right;\n",
              "    }\n",
              "</style>\n",
              "<table border=\"1\" class=\"dataframe\">\n",
              "  <thead>\n",
              "    <tr style=\"text-align: right;\">\n",
              "      <th></th>\n",
              "      <th>song_id</th>\n",
              "      <th>length</th>\n",
              "      <th>note_num</th>\n",
              "      <th>is_rest</th>\n",
              "      <th>pby_pattern</th>\n",
              "    </tr>\n",
              "  </thead>\n",
              "  <tbody>\n",
              "    <tr>\n",
              "      <th>0</th>\n",
              "      <td>0</td>\n",
              "      <td>10290</td>\n",
              "      <td>60</td>\n",
              "      <td>True</td>\n",
              "      <td>0</td>\n",
              "    </tr>\n",
              "    <tr>\n",
              "      <th>1</th>\n",
              "      <td>0</td>\n",
              "      <td>480</td>\n",
              "      <td>60</td>\n",
              "      <td>False</td>\n",
              "      <td>11</td>\n",
              "    </tr>\n",
              "    <tr>\n",
              "      <th>2</th>\n",
              "      <td>0</td>\n",
              "      <td>480</td>\n",
              "      <td>62</td>\n",
              "      <td>False</td>\n",
              "      <td>7</td>\n",
              "    </tr>\n",
              "    <tr>\n",
              "      <th>3</th>\n",
              "      <td>0</td>\n",
              "      <td>240</td>\n",
              "      <td>62</td>\n",
              "      <td>False</td>\n",
              "      <td>0</td>\n",
              "    </tr>\n",
              "    <tr>\n",
              "      <th>4</th>\n",
              "      <td>0</td>\n",
              "      <td>240</td>\n",
              "      <td>65</td>\n",
              "      <td>False</td>\n",
              "      <td>35</td>\n",
              "    </tr>\n",
              "    <tr>\n",
              "      <th>...</th>\n",
              "      <td>...</td>\n",
              "      <td>...</td>\n",
              "      <td>...</td>\n",
              "      <td>...</td>\n",
              "      <td>...</td>\n",
              "    </tr>\n",
              "    <tr>\n",
              "      <th>635</th>\n",
              "      <td>844</td>\n",
              "      <td>480</td>\n",
              "      <td>48</td>\n",
              "      <td>True</td>\n",
              "      <td>0</td>\n",
              "    </tr>\n",
              "    <tr>\n",
              "      <th>636</th>\n",
              "      <td>844</td>\n",
              "      <td>480</td>\n",
              "      <td>48</td>\n",
              "      <td>True</td>\n",
              "      <td>0</td>\n",
              "    </tr>\n",
              "    <tr>\n",
              "      <th>637</th>\n",
              "      <td>844</td>\n",
              "      <td>480</td>\n",
              "      <td>48</td>\n",
              "      <td>True</td>\n",
              "      <td>0</td>\n",
              "    </tr>\n",
              "    <tr>\n",
              "      <th>638</th>\n",
              "      <td>844</td>\n",
              "      <td>480</td>\n",
              "      <td>48</td>\n",
              "      <td>True</td>\n",
              "      <td>0</td>\n",
              "    </tr>\n",
              "    <tr>\n",
              "      <th>639</th>\n",
              "      <td>844</td>\n",
              "      <td>480</td>\n",
              "      <td>60</td>\n",
              "      <td>False</td>\n",
              "      <td>0</td>\n",
              "    </tr>\n",
              "  </tbody>\n",
              "</table>\n",
              "<p>418948 rows × 5 columns</p>\n",
              "</div>\n",
              "      <button class=\"colab-df-convert\" onclick=\"convertToInteractive('df-16cd7865-f8ae-49be-a857-cf15bbc62a82')\"\n",
              "              title=\"Convert this dataframe to an interactive table.\"\n",
              "              style=\"display:none;\">\n",
              "        \n",
              "  <svg xmlns=\"http://www.w3.org/2000/svg\" height=\"24px\"viewBox=\"0 0 24 24\"\n",
              "       width=\"24px\">\n",
              "    <path d=\"M0 0h24v24H0V0z\" fill=\"none\"/>\n",
              "    <path d=\"M18.56 5.44l.94 2.06.94-2.06 2.06-.94-2.06-.94-.94-2.06-.94 2.06-2.06.94zm-11 1L8.5 8.5l.94-2.06 2.06-.94-2.06-.94L8.5 2.5l-.94 2.06-2.06.94zm10 10l.94 2.06.94-2.06 2.06-.94-2.06-.94-.94-2.06-.94 2.06-2.06.94z\"/><path d=\"M17.41 7.96l-1.37-1.37c-.4-.4-.92-.59-1.43-.59-.52 0-1.04.2-1.43.59L10.3 9.45l-7.72 7.72c-.78.78-.78 2.05 0 2.83L4 21.41c.39.39.9.59 1.41.59.51 0 1.02-.2 1.41-.59l7.78-7.78 2.81-2.81c.8-.78.8-2.07 0-2.86zM5.41 20L4 18.59l7.72-7.72 1.47 1.35L5.41 20z\"/>\n",
              "  </svg>\n",
              "      </button>\n",
              "      \n",
              "  <style>\n",
              "    .colab-df-container {\n",
              "      display:flex;\n",
              "      flex-wrap:wrap;\n",
              "      gap: 12px;\n",
              "    }\n",
              "\n",
              "    .colab-df-convert {\n",
              "      background-color: #E8F0FE;\n",
              "      border: none;\n",
              "      border-radius: 50%;\n",
              "      cursor: pointer;\n",
              "      display: none;\n",
              "      fill: #1967D2;\n",
              "      height: 32px;\n",
              "      padding: 0 0 0 0;\n",
              "      width: 32px;\n",
              "    }\n",
              "\n",
              "    .colab-df-convert:hover {\n",
              "      background-color: #E2EBFA;\n",
              "      box-shadow: 0px 1px 2px rgba(60, 64, 67, 0.3), 0px 1px 3px 1px rgba(60, 64, 67, 0.15);\n",
              "      fill: #174EA6;\n",
              "    }\n",
              "\n",
              "    [theme=dark] .colab-df-convert {\n",
              "      background-color: #3B4455;\n",
              "      fill: #D2E3FC;\n",
              "    }\n",
              "\n",
              "    [theme=dark] .colab-df-convert:hover {\n",
              "      background-color: #434B5C;\n",
              "      box-shadow: 0px 1px 3px 1px rgba(0, 0, 0, 0.15);\n",
              "      filter: drop-shadow(0px 1px 2px rgba(0, 0, 0, 0.3));\n",
              "      fill: #FFFFFF;\n",
              "    }\n",
              "  </style>\n",
              "\n",
              "      <script>\n",
              "        const buttonEl =\n",
              "          document.querySelector('#df-16cd7865-f8ae-49be-a857-cf15bbc62a82 button.colab-df-convert');\n",
              "        buttonEl.style.display =\n",
              "          google.colab.kernel.accessAllowed ? 'block' : 'none';\n",
              "\n",
              "        async function convertToInteractive(key) {\n",
              "          const element = document.querySelector('#df-16cd7865-f8ae-49be-a857-cf15bbc62a82');\n",
              "          const dataTable =\n",
              "            await google.colab.kernel.invokeFunction('convertToInteractive',\n",
              "                                                     [key], {});\n",
              "          if (!dataTable) return;\n",
              "\n",
              "          const docLinkHtml = 'Like what you see? Visit the ' +\n",
              "            '<a target=\"_blank\" href=https://colab.research.google.com/notebooks/data_table.ipynb>data table notebook</a>'\n",
              "            + ' to learn more about interactive tables.';\n",
              "          element.innerHTML = '';\n",
              "          dataTable['output_type'] = 'display_data';\n",
              "          await google.colab.output.renderOutput(dataTable, element);\n",
              "          const docLink = document.createElement('div');\n",
              "          docLink.innerHTML = docLinkHtml;\n",
              "          element.appendChild(docLink);\n",
              "        }\n",
              "      </script>\n",
              "    </div>\n",
              "  </div>\n",
              "  "
            ]
          },
          "metadata": {},
          "execution_count": 7
        }
      ]
    },
    {
      "cell_type": "code",
      "source": [
        "data_prepare = connect.copy()\n",
        "col = [\"is_rest\"]\n",
        "for i in col:\n",
        "    data_prepare[i] = data_prepare[i].astype(\"category\").cat.codes\n",
        "\n",
        "data_prepare[\"song_id2\"] = data_prepare[\"song_id\"].shift(-1)\n",
        "data_prepare[\"length2\"] = data_prepare[\"length\"].shift(-1)\n",
        "data_prepare[\"note_num2\"] = data_prepare[\"note_num\"].shift(-1)\n",
        "data_prepare[\"is_rest2\"] = data_prepare[\"is_rest\"].shift(-1)\n",
        "idx = data_prepare[\"song_id\"] != data_prepare[\"song_id2\"]\n",
        "data_prepare.loc[idx, \"length2\"] = 0\n",
        "data_prepare.loc[idx, \"note_num2\"] = 0\n",
        "data_prepare.loc[idx, \"is_rest2\"] = 0\n",
        "data_prepare = data_prepare.fillna(0)\n",
        "data_prepare = data_prepare[data_prepare.is_rest2 == 0]\n",
        "data_prepare[\"length2\"] = data_prepare[\"length2\"].astype(int)\n",
        "data_prepare[\"note_num2\"] = data_prepare[\"note_num2\"].astype(int)\n",
        "\n",
        "# data_prepare = data_prepare[data_prepare.pby_pattern != 0]\n",
        "# data_prepare = data_prepare[data_prepare.pby_pattern != 1]"
      ],
      "metadata": {
        "id": "eYUmu-bZMchS",
        "colab": {
          "base_uri": "https://localhost:8080/"
        },
        "outputId": "7dd01093-05e5-42a0-b514-4158193b86cb"
      },
      "execution_count": 8,
      "outputs": [
        {
          "output_type": "stream",
          "name": "stderr",
          "text": [
            "/usr/local/lib/python3.7/dist-packages/ipykernel_launcher.py:16: SettingWithCopyWarning: \n",
            "A value is trying to be set on a copy of a slice from a DataFrame.\n",
            "Try using .loc[row_indexer,col_indexer] = value instead\n",
            "\n",
            "See the caveats in the documentation: https://pandas.pydata.org/pandas-docs/stable/user_guide/indexing.html#returning-a-view-versus-a-copy\n",
            "  app.launch_new_instance()\n",
            "/usr/local/lib/python3.7/dist-packages/ipykernel_launcher.py:17: SettingWithCopyWarning: \n",
            "A value is trying to be set on a copy of a slice from a DataFrame.\n",
            "Try using .loc[row_indexer,col_indexer] = value instead\n",
            "\n",
            "See the caveats in the documentation: https://pandas.pydata.org/pandas-docs/stable/user_guide/indexing.html#returning-a-view-versus-a-copy\n"
          ]
        }
      ]
    },
    {
      "cell_type": "code",
      "source": [
        "x = data_prepare[[\"length\", \"note_num\", \"is_rest\", \"length2\", \"note_num2\"]]\n",
        "y = data_prepare[\"pby_pattern\"]"
      ],
      "metadata": {
        "id": "sibdEgaRM-VI"
      },
      "execution_count": 9,
      "outputs": []
    },
    {
      "cell_type": "code",
      "source": [
        " data_prepare[[\"length\", \"note_num\", \"is_rest\", \"length2\", \"note_num2\"]]"
      ],
      "metadata": {
        "colab": {
          "base_uri": "https://localhost:8080/",
          "height": 423
        },
        "id": "EEojp526NKmu",
        "outputId": "01362217-302e-4446-80ca-67d8721700c3"
      },
      "execution_count": 10,
      "outputs": [
        {
          "output_type": "execute_result",
          "data": {
            "text/plain": [
              "     length  note_num  is_rest  length2  note_num2\n",
              "0     10290        60        1      480         60\n",
              "1       480        60        0      480         62\n",
              "2       480        62        0      240         62\n",
              "3       240        62        0      240         65\n",
              "4       240        65        0      240         65\n",
              "..      ...       ...      ...      ...        ...\n",
              "630     480        54        0      480         53\n",
              "631     480        53        0      480         52\n",
              "632     480        52        0     1620         51\n",
              "638     480        48        1      480         60\n",
              "639     480        60        0        0          0\n",
              "\n",
              "[268439 rows x 5 columns]"
            ],
            "text/html": [
              "\n",
              "  <div id=\"df-6319f805-c778-44b8-92ec-e40db777b9b2\">\n",
              "    <div class=\"colab-df-container\">\n",
              "      <div>\n",
              "<style scoped>\n",
              "    .dataframe tbody tr th:only-of-type {\n",
              "        vertical-align: middle;\n",
              "    }\n",
              "\n",
              "    .dataframe tbody tr th {\n",
              "        vertical-align: top;\n",
              "    }\n",
              "\n",
              "    .dataframe thead th {\n",
              "        text-align: right;\n",
              "    }\n",
              "</style>\n",
              "<table border=\"1\" class=\"dataframe\">\n",
              "  <thead>\n",
              "    <tr style=\"text-align: right;\">\n",
              "      <th></th>\n",
              "      <th>length</th>\n",
              "      <th>note_num</th>\n",
              "      <th>is_rest</th>\n",
              "      <th>length2</th>\n",
              "      <th>note_num2</th>\n",
              "    </tr>\n",
              "  </thead>\n",
              "  <tbody>\n",
              "    <tr>\n",
              "      <th>0</th>\n",
              "      <td>10290</td>\n",
              "      <td>60</td>\n",
              "      <td>1</td>\n",
              "      <td>480</td>\n",
              "      <td>60</td>\n",
              "    </tr>\n",
              "    <tr>\n",
              "      <th>1</th>\n",
              "      <td>480</td>\n",
              "      <td>60</td>\n",
              "      <td>0</td>\n",
              "      <td>480</td>\n",
              "      <td>62</td>\n",
              "    </tr>\n",
              "    <tr>\n",
              "      <th>2</th>\n",
              "      <td>480</td>\n",
              "      <td>62</td>\n",
              "      <td>0</td>\n",
              "      <td>240</td>\n",
              "      <td>62</td>\n",
              "    </tr>\n",
              "    <tr>\n",
              "      <th>3</th>\n",
              "      <td>240</td>\n",
              "      <td>62</td>\n",
              "      <td>0</td>\n",
              "      <td>240</td>\n",
              "      <td>65</td>\n",
              "    </tr>\n",
              "    <tr>\n",
              "      <th>4</th>\n",
              "      <td>240</td>\n",
              "      <td>65</td>\n",
              "      <td>0</td>\n",
              "      <td>240</td>\n",
              "      <td>65</td>\n",
              "    </tr>\n",
              "    <tr>\n",
              "      <th>...</th>\n",
              "      <td>...</td>\n",
              "      <td>...</td>\n",
              "      <td>...</td>\n",
              "      <td>...</td>\n",
              "      <td>...</td>\n",
              "    </tr>\n",
              "    <tr>\n",
              "      <th>630</th>\n",
              "      <td>480</td>\n",
              "      <td>54</td>\n",
              "      <td>0</td>\n",
              "      <td>480</td>\n",
              "      <td>53</td>\n",
              "    </tr>\n",
              "    <tr>\n",
              "      <th>631</th>\n",
              "      <td>480</td>\n",
              "      <td>53</td>\n",
              "      <td>0</td>\n",
              "      <td>480</td>\n",
              "      <td>52</td>\n",
              "    </tr>\n",
              "    <tr>\n",
              "      <th>632</th>\n",
              "      <td>480</td>\n",
              "      <td>52</td>\n",
              "      <td>0</td>\n",
              "      <td>1620</td>\n",
              "      <td>51</td>\n",
              "    </tr>\n",
              "    <tr>\n",
              "      <th>638</th>\n",
              "      <td>480</td>\n",
              "      <td>48</td>\n",
              "      <td>1</td>\n",
              "      <td>480</td>\n",
              "      <td>60</td>\n",
              "    </tr>\n",
              "    <tr>\n",
              "      <th>639</th>\n",
              "      <td>480</td>\n",
              "      <td>60</td>\n",
              "      <td>0</td>\n",
              "      <td>0</td>\n",
              "      <td>0</td>\n",
              "    </tr>\n",
              "  </tbody>\n",
              "</table>\n",
              "<p>268439 rows × 5 columns</p>\n",
              "</div>\n",
              "      <button class=\"colab-df-convert\" onclick=\"convertToInteractive('df-6319f805-c778-44b8-92ec-e40db777b9b2')\"\n",
              "              title=\"Convert this dataframe to an interactive table.\"\n",
              "              style=\"display:none;\">\n",
              "        \n",
              "  <svg xmlns=\"http://www.w3.org/2000/svg\" height=\"24px\"viewBox=\"0 0 24 24\"\n",
              "       width=\"24px\">\n",
              "    <path d=\"M0 0h24v24H0V0z\" fill=\"none\"/>\n",
              "    <path d=\"M18.56 5.44l.94 2.06.94-2.06 2.06-.94-2.06-.94-.94-2.06-.94 2.06-2.06.94zm-11 1L8.5 8.5l.94-2.06 2.06-.94-2.06-.94L8.5 2.5l-.94 2.06-2.06.94zm10 10l.94 2.06.94-2.06 2.06-.94-2.06-.94-.94-2.06-.94 2.06-2.06.94z\"/><path d=\"M17.41 7.96l-1.37-1.37c-.4-.4-.92-.59-1.43-.59-.52 0-1.04.2-1.43.59L10.3 9.45l-7.72 7.72c-.78.78-.78 2.05 0 2.83L4 21.41c.39.39.9.59 1.41.59.51 0 1.02-.2 1.41-.59l7.78-7.78 2.81-2.81c.8-.78.8-2.07 0-2.86zM5.41 20L4 18.59l7.72-7.72 1.47 1.35L5.41 20z\"/>\n",
              "  </svg>\n",
              "      </button>\n",
              "      \n",
              "  <style>\n",
              "    .colab-df-container {\n",
              "      display:flex;\n",
              "      flex-wrap:wrap;\n",
              "      gap: 12px;\n",
              "    }\n",
              "\n",
              "    .colab-df-convert {\n",
              "      background-color: #E8F0FE;\n",
              "      border: none;\n",
              "      border-radius: 50%;\n",
              "      cursor: pointer;\n",
              "      display: none;\n",
              "      fill: #1967D2;\n",
              "      height: 32px;\n",
              "      padding: 0 0 0 0;\n",
              "      width: 32px;\n",
              "    }\n",
              "\n",
              "    .colab-df-convert:hover {\n",
              "      background-color: #E2EBFA;\n",
              "      box-shadow: 0px 1px 2px rgba(60, 64, 67, 0.3), 0px 1px 3px 1px rgba(60, 64, 67, 0.15);\n",
              "      fill: #174EA6;\n",
              "    }\n",
              "\n",
              "    [theme=dark] .colab-df-convert {\n",
              "      background-color: #3B4455;\n",
              "      fill: #D2E3FC;\n",
              "    }\n",
              "\n",
              "    [theme=dark] .colab-df-convert:hover {\n",
              "      background-color: #434B5C;\n",
              "      box-shadow: 0px 1px 3px 1px rgba(0, 0, 0, 0.15);\n",
              "      filter: drop-shadow(0px 1px 2px rgba(0, 0, 0, 0.3));\n",
              "      fill: #FFFFFF;\n",
              "    }\n",
              "  </style>\n",
              "\n",
              "      <script>\n",
              "        const buttonEl =\n",
              "          document.querySelector('#df-6319f805-c778-44b8-92ec-e40db777b9b2 button.colab-df-convert');\n",
              "        buttonEl.style.display =\n",
              "          google.colab.kernel.accessAllowed ? 'block' : 'none';\n",
              "\n",
              "        async function convertToInteractive(key) {\n",
              "          const element = document.querySelector('#df-6319f805-c778-44b8-92ec-e40db777b9b2');\n",
              "          const dataTable =\n",
              "            await google.colab.kernel.invokeFunction('convertToInteractive',\n",
              "                                                     [key], {});\n",
              "          if (!dataTable) return;\n",
              "\n",
              "          const docLinkHtml = 'Like what you see? Visit the ' +\n",
              "            '<a target=\"_blank\" href=https://colab.research.google.com/notebooks/data_table.ipynb>data table notebook</a>'\n",
              "            + ' to learn more about interactive tables.';\n",
              "          element.innerHTML = '';\n",
              "          dataTable['output_type'] = 'display_data';\n",
              "          await google.colab.output.renderOutput(dataTable, element);\n",
              "          const docLink = document.createElement('div');\n",
              "          docLink.innerHTML = docLinkHtml;\n",
              "          element.appendChild(docLink);\n",
              "        }\n",
              "      </script>\n",
              "    </div>\n",
              "  </div>\n",
              "  "
            ]
          },
          "metadata": {},
          "execution_count": 10
        }
      ]
    },
    {
      "cell_type": "code",
      "source": [
        "data_prepare[\"pby_pattern\"]"
      ],
      "metadata": {
        "colab": {
          "base_uri": "https://localhost:8080/"
        },
        "id": "7FMD2IHyQuGM",
        "outputId": "538c6973-66d8-41ae-8cc7-1185feaff301"
      },
      "execution_count": 11,
      "outputs": [
        {
          "output_type": "execute_result",
          "data": {
            "text/plain": [
              "0       0\n",
              "1      11\n",
              "2       7\n",
              "3       0\n",
              "4      35\n",
              "       ..\n",
              "630    55\n",
              "631    51\n",
              "632    35\n",
              "638     0\n",
              "639     0\n",
              "Name: pby_pattern, Length: 268439, dtype: int64"
            ]
          },
          "metadata": {},
          "execution_count": 11
        }
      ]
    },
    {
      "cell_type": "code",
      "source": [
        "pt, count = np.unique(y, return_counts=True)\n",
        "plt.plot(pt, count)"
      ],
      "metadata": {
        "colab": {
          "base_uri": "https://localhost:8080/",
          "height": 283
        },
        "id": "F12f5DfXN9uw",
        "outputId": "b5b5b83f-27c9-4481-a18a-28ac9f0f92bd"
      },
      "execution_count": 12,
      "outputs": [
        {
          "output_type": "execute_result",
          "data": {
            "text/plain": [
              "[<matplotlib.lines.Line2D at 0x7fa855688d90>]"
            ]
          },
          "metadata": {},
          "execution_count": 12
        },
        {
          "output_type": "display_data",
          "data": {
            "text/plain": [
              "<Figure size 432x288 with 1 Axes>"
            ],
            "image/png": "[encoded data removed]"
          },
          "metadata": {
            "needs_background": "light"
          }
        }
      ]
    },
    {
      "cell_type": "code",
      "source": [
        "list(zip(pt,count))"
      ],
      "metadata": {
        "colab": {
          "base_uri": "https://localhost:8080/"
        },
        "id": "J8pkKkpcOUGF",
        "outputId": "bc30ee20-6263-4769-f089-5a55941bf48a"
      },
      "execution_count": 13,
      "outputs": [
        {
          "output_type": "execute_result",
          "data": {
            "text/plain": [
              "[(0, 67442),\n",
              " (1, 111072),\n",
              " (2, 8051),\n",
              " (3, 970),\n",
              " (4, 16946),\n",
              " (5, 6599),\n",
              " (6, 885),\n",
              " (7, 9725),\n",
              " (8, 2698),\n",
              " (9, 1721),\n",
              " (10, 877),\n",
              " (11, 344),\n",
              " (12, 2649),\n",
              " (13, 141),\n",
              " (14, 146),\n",
              " (15, 252),\n",
              " (16, 187),\n",
              " (17, 159),\n",
              " (18, 52),\n",
              " (19, 119),\n",
              " (20, 823),\n",
              " (21, 150),\n",
              " (22, 156),\n",
              " (23, 74),\n",
              " (24, 384),\n",
              " (25, 316),\n",
              " (26, 219),\n",
              " (27, 10),\n",
              " (28, 26),\n",
              " (29, 14),\n",
              " (30, 3),\n",
              " (31, 17620),\n",
              " (32, 82),\n",
              " (33, 341),\n",
              " (34, 50),\n",
              " (35, 3145),\n",
              " (36, 133),\n",
              " (37, 447),\n",
              " (38, 33),\n",
              " (39, 5119),\n",
              " (40, 142),\n",
              " (41, 923),\n",
              " (42, 53),\n",
              " (43, 868),\n",
              " (44, 76),\n",
              " (45, 147),\n",
              " (46, 9),\n",
              " (47, 4103),\n",
              " (48, 60),\n",
              " (49, 478),\n",
              " (50, 24),\n",
              " (51, 642),\n",
              " (52, 162),\n",
              " (53, 120),\n",
              " (54, 8),\n",
              " (55, 161),\n",
              " (56, 27),\n",
              " (57, 113),\n",
              " (58, 13),\n",
              " (59, 40),\n",
              " (60, 58),\n",
              " (61, 30),\n",
              " (62, 2)]"
            ]
          },
          "metadata": {},
          "execution_count": 13
        }
      ]
    },
    {
      "cell_type": "markdown",
      "source": [
        "# Step 3: Testing Baseline"
      ],
      "metadata": {
        "id": "g1H0F4wG96U6"
      }
    },
    {
      "cell_type": "code",
      "source": [
        "x_train, x_test, y_train, y_test = train_test_split(x, y, random_state=1234)"
      ],
      "metadata": {
        "id": "VlXwPh7MP8ZE"
      },
      "execution_count": 14,
      "outputs": []
    },
    {
      "cell_type": "code",
      "source": [
        "def port_baseline_score(x, y):\n",
        "  xt = x.copy()\n",
        "  xt = x_test.copy()\n",
        "  xt.loc[xt[\"note_num\"] >= xt[\"note_num2\"], \"pby_pattern\"] = 1\n",
        "  xt.loc[xt[\"note_num\"] < xt[\"note_num2\"], \"pby_pattern\"] = 2\n",
        "  return accuracy_score(xt[\"pby_pattern\"].to_numpy(), y)"
      ],
      "metadata": {
        "id": "r1iWM1oeQ7lC"
      },
      "execution_count": 36,
      "outputs": []
    },
    {
      "cell_type": "code",
      "source": [
        "print(port_baseline_score(x_test, y_test))"
      ],
      "metadata": {
        "colab": {
          "base_uri": "https://localhost:8080/"
        },
        "id": "p-W6th40qXAv",
        "outputId": "7918688e-97dc-4b41-afce-546837a30201"
      },
      "execution_count": 40,
      "outputs": [
        {
          "output_type": "stream",
          "name": "stdout",
          "text": [
            "0.26958724482193414\n"
          ]
        }
      ]
    },
    {
      "cell_type": "markdown",
      "source": [
        "# Step 4: Train with RandomForest"
      ],
      "metadata": {
        "id": "7ZWfkbGT98t4"
      }
    },
    {
      "cell_type": "code",
      "source": [
        "rf = RandomForestClassifier()"
      ],
      "metadata": {
        "id": "XJLWTIghOs4b"
      },
      "execution_count": 26,
      "outputs": []
    },
    {
      "cell_type": "code",
      "source": [
        "rf.fit(x_train, y_train)\n",
        "print(\"done\")"
      ],
      "metadata": {
        "colab": {
          "base_uri": "https://localhost:8080/"
        },
        "id": "YackB65KQG1Y",
        "outputId": "27cb6ac8-b9f9-4d5d-ace1-fbde50fe2ee1"
      },
      "execution_count": 27,
      "outputs": [
        {
          "output_type": "stream",
          "name": "stdout",
          "text": [
            "done\n"
          ]
        }
      ]
    },
    {
      "cell_type": "code",
      "source": [
        "print(\"rf score:\", rf.score(x_test, y_test))\n",
        "print(\"port baseline score:\", port_baseline_score(x_test, y_test))"
      ],
      "metadata": {
        "colab": {
          "base_uri": "https://localhost:8080/"
        },
        "id": "ROfwq9X7QcPw",
        "outputId": "1f279cab-428f-4b51-808b-873bfe3426ff"
      },
      "execution_count": 43,
      "outputs": [
        {
          "output_type": "stream",
          "name": "stdout",
          "text": [
            "rf score: 0.6103114289971688\n",
            "port baseline score: 0.26958724482193414\n"
          ]
        }
      ]
    },
    {
      "cell_type": "code",
      "source": [
        "print(classification_report(rf.predict(x_test), y_test))"
      ],
      "metadata": {
        "colab": {
          "base_uri": "https://localhost:8080/"
        },
        "id": "0OY6Sg8VtTfR",
        "outputId": "42614b1f-a09a-4060-daf1-83c4a9a95259"
      },
      "execution_count": 44,
      "outputs": [
        {
          "output_type": "stream",
          "name": "stdout",
          "text": [
            "              precision    recall  f1-score   support\n",
            "\n",
            "           0       0.71      0.89      0.79     13328\n",
            "           1       0.91      0.56      0.70     45447\n",
            "           2       0.14      0.45      0.21       615\n",
            "           3       0.07      0.25      0.11        64\n",
            "           4       0.15      0.43      0.22      1419\n",
            "           5       0.09      0.35      0.15       437\n",
            "           6       0.16      0.38      0.22        92\n",
            "           7       0.20      0.46      0.28      1062\n",
            "           8       0.15      0.41      0.22       239\n",
            "           9       0.13      0.48      0.20       120\n",
            "          10       0.14      0.39      0.20        67\n",
            "          11       0.12      0.33      0.18        30\n",
            "          12       0.15      0.37      0.21       254\n",
            "          13       0.12      0.36      0.18        14\n",
            "          14       0.19      0.28      0.23        25\n",
            "          15       0.21      0.36      0.27        33\n",
            "          16       0.08      0.24      0.11        17\n",
            "          17       0.14      0.42      0.21        12\n",
            "          18       0.20      0.25      0.22         8\n",
            "          19       0.07      0.25      0.11         8\n",
            "          20       0.20      0.48      0.28        83\n",
            "          21       0.06      0.18      0.09        11\n",
            "          22       0.38      0.68      0.48        22\n",
            "          23       0.17      0.33      0.22         6\n",
            "          24       0.19      0.41      0.26        44\n",
            "          25       0.26      0.44      0.33        39\n",
            "          26       0.12      0.23      0.16        30\n",
            "          27       0.00      0.00      0.00         0\n",
            "          28       0.00      0.00      0.00         1\n",
            "          29       0.00      0.00      0.00         1\n",
            "          30       0.00      0.00      0.00         0\n",
            "          31       0.23      0.48      0.31      2164\n",
            "          32       0.14      0.44      0.22         9\n",
            "          33       0.20      0.46      0.28        35\n",
            "          34       0.27      1.00      0.42         4\n",
            "          35       0.17      0.43      0.25       313\n",
            "          36       0.21      0.55      0.31        11\n",
            "          37       0.10      0.31      0.15        35\n",
            "          38       0.29      0.50      0.36         4\n",
            "          39       0.08      0.34      0.13       318\n",
            "          40       0.19      0.32      0.24        22\n",
            "          41       0.20      0.45      0.27       109\n",
            "          42       0.19      0.75      0.30         4\n",
            "          43       0.08      0.31      0.13        58\n",
            "          44       0.00      0.00      0.00         5\n",
            "          45       0.08      0.27      0.13        11\n",
            "          46       0.00      0.00      0.00         1\n",
            "          47       0.10      0.35      0.16       282\n",
            "          48       0.27      0.40      0.32        10\n",
            "          49       0.16      0.30      0.21        66\n",
            "          50       0.00      0.00      0.00         0\n",
            "          51       0.04      0.30      0.07        23\n",
            "          52       0.26      0.33      0.29        33\n",
            "          53       0.14      0.28      0.18        18\n",
            "          54       0.33      1.00      0.50         1\n",
            "          55       0.09      0.43      0.14         7\n",
            "          56       0.57      0.67      0.62         6\n",
            "          57       0.22      0.27      0.24        15\n",
            "          58       0.00      0.00      0.00         0\n",
            "          59       0.00      0.00      0.00         0\n",
            "          60       0.25      0.27      0.26        15\n",
            "          61       0.38      1.00      0.55         3\n",
            "          62       0.00      0.00      0.00         0\n",
            "\n",
            "    accuracy                           0.61     67110\n",
            "   macro avg       0.17      0.36      0.22     67110\n",
            "weighted avg       0.78      0.61      0.66     67110\n",
            "\n"
          ]
        },
        {
          "output_type": "stream",
          "name": "stderr",
          "text": [
            "/usr/local/lib/python3.7/dist-packages/sklearn/metrics/_classification.py:1318: UndefinedMetricWarning: Recall and F-score are ill-defined and being set to 0.0 in labels with no true samples. Use `zero_division` parameter to control this behavior.\n",
            "  _warn_prf(average, modifier, msg_start, len(result))\n",
            "/usr/local/lib/python3.7/dist-packages/sklearn/metrics/_classification.py:1318: UndefinedMetricWarning: Recall and F-score are ill-defined and being set to 0.0 in labels with no true samples. Use `zero_division` parameter to control this behavior.\n",
            "  _warn_prf(average, modifier, msg_start, len(result))\n",
            "/usr/local/lib/python3.7/dist-packages/sklearn/metrics/_classification.py:1318: UndefinedMetricWarning: Recall and F-score are ill-defined and being set to 0.0 in labels with no true samples. Use `zero_division` parameter to control this behavior.\n",
            "  _warn_prf(average, modifier, msg_start, len(result))\n"
          ]
        }
      ]
    },
    {
      "cell_type": "markdown",
      "source": [
        "# Notes: Using LogisticRegression model"
      ],
      "metadata": {
        "id": "m_1BJSnh-Aui"
      }
    },
    {
      "cell_type": "code",
      "source": [
        "from sklearn.linear_model import LogisticRegression\n",
        "from sklearn.preprocessing import StandardScaler"
      ],
      "metadata": {
        "id": "3qrjkmZJDhYv"
      },
      "execution_count": 31,
      "outputs": []
    },
    {
      "cell_type": "code",
      "source": [
        "sc = StandardScaler()\n",
        "lr = LogisticRegression()\n",
        "\n",
        "lr.fit(sc.fit_transform(x_test), y_test)\n",
        "print(\"done\")"
      ],
      "metadata": {
        "colab": {
          "base_uri": "https://localhost:8080/"
        },
        "id": "Np5iY4wQxMwq",
        "outputId": "f1ceba6b-596c-4cbb-d101-79144ce72525"
      },
      "execution_count": 32,
      "outputs": [
        {
          "output_type": "stream",
          "name": "stdout",
          "text": [
            "done\n"
          ]
        },
        {
          "output_type": "stream",
          "name": "stderr",
          "text": [
            "/usr/local/lib/python3.7/dist-packages/sklearn/linear_model/_logistic.py:818: ConvergenceWarning: lbfgs failed to converge (status=1):\n",
            "STOP: TOTAL NO. of ITERATIONS REACHED LIMIT.\n",
            "\n",
            "Increase the number of iterations (max_iter) or scale the data as shown in:\n",
            "    https://scikit-learn.org/stable/modules/preprocessing.html\n",
            "Please also refer to the documentation for alternative solver options:\n",
            "    https://scikit-learn.org/stable/modules/linear_model.html#logistic-regression\n",
            "  extra_warning_msg=_LOGISTIC_SOLVER_CONVERGENCE_MSG,\n"
          ]
        }
      ]
    },
    {
      "cell_type": "code",
      "source": [
        "print(\"lr score:\", lr.score(sc.transform(x_test), y_test))"
      ],
      "metadata": {
        "colab": {
          "base_uri": "https://localhost:8080/"
        },
        "id": "nyDsdLWAx1PQ",
        "outputId": "f858c502-76c6-47b0-e989-363206d5994e"
      },
      "execution_count": 39,
      "outputs": [
        {
          "output_type": "stream",
          "name": "stdout",
          "text": [
            "lr score: 0.5562360303978543\n"
          ]
        }
      ]
    },
    {
      "cell_type": "code",
      "source": [
        "np.unique(lr.predict(sc.transform(x_test)), return_counts=True)"
      ],
      "metadata": {
        "colab": {
          "base_uri": "https://localhost:8080/"
        },
        "id": "W6Y_LVFhybPR",
        "outputId": "32c478b7-64f5-4234-dfbf-6d50c5d45934"
      },
      "execution_count": 34,
      "outputs": [
        {
          "output_type": "execute_result",
          "data": {
            "text/plain": [
              "(array([ 0,  1,  4,  7, 30]), array([ 9931, 57140,     2,    36,     1]))"
            ]
          },
          "metadata": {},
          "execution_count": 34
        }
      ]
    },
    {
      "cell_type": "code",
      "source": [
        "np.unique(rf.predict(x_test), return_counts=True)"
      ],
      "metadata": {
        "colab": {
          "base_uri": "https://localhost:8080/"
        },
        "id": "nqAAZNJxy3Lj",
        "outputId": "d9270743-b1a6-414d-90db-44e15c9c25c0"
      },
      "execution_count": null,
      "outputs": [
        {
          "output_type": "execute_result",
          "data": {
            "text/plain": [
              "(array([ 0,  1,  2,  3,  4,  5,  6,  7,  8,  9, 10, 11, 12, 13, 14, 15, 16,\n",
              "        17, 18, 19, 20, 21, 22, 23, 24, 25, 26, 29, 31, 32, 33, 34, 35, 36,\n",
              "        37, 38, 39, 40, 41, 42, 43, 44, 45, 46, 47, 48, 49, 50, 51, 52, 53,\n",
              "        54, 55, 56, 57, 59, 60, 61]),\n",
              " array([13587, 45305,   632,    56,  1379,   444,    80,  1014,   247,\n",
              "          112,    63,    30,   247,    13,    27,    34,    16,    13,\n",
              "            7,    10,    87,    12,    21,     3,    52,    40,    29,\n",
              "            1,  2158,     9,    40,     4,   306,    10,    34,     4,\n",
              "          310,    23,   107,     3,    49,     9,    12,     1,   275,\n",
              "            8,    77,     2,    25,    29,    10,     2,     7,     6,\n",
              "           12,     1,    13,     3]))"
            ]
          },
          "metadata": {},
          "execution_count": 110
        }
      ]
    },
    {
      "cell_type": "code",
      "source": [
        "lr.coef_[0]"
      ],
      "metadata": {
        "colab": {
          "base_uri": "https://localhost:8080/"
        },
        "id": "S5KVNJBG0J6Y",
        "outputId": "bda8e850-3bcd-49f8-bbc3-b270c3e12c6f"
      },
      "execution_count": null,
      "outputs": [
        {
          "output_type": "execute_result",
          "data": {
            "text/plain": [
              "array([ 0.89615101,  0.17243007,  2.64328129, -0.19448669, -0.15574255])"
            ]
          },
          "metadata": {},
          "execution_count": 112
        }
      ]
    },
    {
      "cell_type": "code",
      "source": [
        "lr.coef_[1]"
      ],
      "metadata": {
        "colab": {
          "base_uri": "https://localhost:8080/"
        },
        "id": "EDMViRrKzzxY",
        "outputId": "d8ca7035-447a-4cca-e46b-d36514fafe85"
      },
      "execution_count": null,
      "outputs": [
        {
          "output_type": "execute_result",
          "data": {
            "text/plain": [
              "array([-2.71564095e+00,  6.94343957e-03,  5.94777851e-01,  2.34514749e-03,\n",
              "        1.38405953e-01])"
            ]
          },
          "metadata": {},
          "execution_count": 113
        }
      ]
    },
    {
      "cell_type": "markdown",
      "source": [
        "# Step 5: Getting it back to UST files"
      ],
      "metadata": {
        "id": "HlszygvG-Jwi"
      }
    },
    {
      "cell_type": "code",
      "source": [
        "def base_pby_pattern_to_mode2pitch(note1, note2, length1, length2, tempo, pby_pattern, q1=0.2, q2=0.5):\n",
        "  \"\"\"Baseline Mode2Pitch generator, do not use in production\"\"\"\n",
        "  if not pby_pattern:\n",
        "    return [0, 0], [], []\n",
        "  mspb = (1 / (tempo / 480)) * (60*1000) # milliseconds per beat\n",
        "  l1_ms, l2_ms = (length1 / 480) * mspb, (length2 / 480) * mspb\n",
        "  base = [2**i - 1 for i in range(6)]\n",
        "  subtract = [pby_pattern-i for i in base if pby_pattern-i >= 0]\n",
        "  subtracted_pitch_length = len(subtract)-1\n",
        "  subtracted_pitch = [int(i) for i in list(f\"{subtract[-1]:0b}\")]\n",
        "  subtracted_pitch = [0 for i in range(subtracted_pitch_length - len(subtracted_pitch))] + subtracted_pitch\n",
        "  start_time, start_pitch = -abs((l1_ms) * q1), (note1 - note2) * 10 # PBS\n",
        "  total_ms = l1_ms * q1 + l2_ms * q2\n",
        "  pbw = [total_ms / subtracted_pitch_length] * subtracted_pitch_length\n",
        "  up_count = len([i for i in subtracted_pitch if base == 1])\n",
        "  down_count = len([i for i in subtracted_pitch if base == 0])\n",
        "  \n",
        "  tp = [-1 if i == 0 else 1 for i in subtracted_pitch]\n",
        "  tc = [sum(tp[:i+1]) for i in range(subtracted_pitch_length)]\n",
        "  # print(tp, tc)\n",
        "  c = max(1, abs(max(tc) - min(tc)))\n",
        "  sh = ((note2 - note1) / c) * 10\n",
        "  if note2 - note1 >= 0:\n",
        "    pby = [start_pitch+j*sh for j in tc]\n",
        "  else:\n",
        "    pby = [start_pitch-j*sh for j in tc]\n",
        "  pby = [i-pby[0] for i in pby]\n",
        "  return [start_time, start_pitch], pbw, pby\n",
        "\n",
        "base_pby_pattern_to_mode2pitch(63, 60, 240, 480, 480*120, 1)"
      ],
      "metadata": {
        "colab": {
          "base_uri": "https://localhost:8080/"
        },
        "id": "ldls9n3uvRGT",
        "outputId": "cc27e539-de73-4a82-ba60-621456a481a8"
      },
      "execution_count": null,
      "outputs": [
        {
          "output_type": "execute_result",
          "data": {
            "text/plain": [
              "([-50.0, 30], [300.0], [0.0])"
            ]
          },
          "metadata": {},
          "execution_count": 134
        }
      ]
    }
  ]
}